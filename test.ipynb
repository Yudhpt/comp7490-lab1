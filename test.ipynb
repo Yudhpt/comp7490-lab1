{
 "cells": [
  {
   "cell_type": "code",
   "execution_count": 7,
   "metadata": {},
   "outputs": [],
   "source": [
    "def find_factor(x):\n",
    "    ans = []\n",
    "    for i in range(1, x+1):\n",
    "        if x % i == 0:\n",
    "            ans.append(i)\n",
    "    \n",
    "    return ans"
   ]
  },
  {
   "cell_type": "code",
   "execution_count": 8,
   "metadata": {},
   "outputs": [],
   "source": [
    "def print_factor(ans):\n",
    "    print(ans)"
   ]
  },
  {
   "cell_type": "code",
   "execution_count": 16,
   "metadata": {},
   "outputs": [],
   "source": [
    "def find_factors(x):\n",
    "    ans = {}\n",
    "    for i in x:\n",
    "        temp = []\n",
    "        for j in range(1, i+1):\n",
    "            if i % j == 0:\n",
    "                temp.append(j)\n",
    "        ans[i] = temp\n",
    "    \n",
    "    return ans"
   ]
  },
  {
   "cell_type": "code",
   "execution_count": 17,
   "metadata": {},
   "outputs": [
    {
     "name": "stdout",
     "output_type": "stream",
     "text": [
      "{52633: [1, 7, 73, 103, 511, 721, 7519, 52633], 8137: [1, 79, 103, 8137], 1024: [1, 2, 4, 8, 16, 32, 64, 128, 256, 512, 1024], 999: [1, 3, 9, 27, 37, 111, 333, 999]}\n"
     ]
    }
   ],
   "source": [
    "print_factor(find_factors([52633, 8137, 1024, 999]))"
   ]
  }
 ],
 "metadata": {
  "kernelspec": {
   "display_name": "base",
   "language": "python",
   "name": "python3"
  },
  "language_info": {
   "codemirror_mode": {
    "name": "ipython",
    "version": 3
   },
   "file_extension": ".py",
   "mimetype": "text/x-python",
   "name": "python",
   "nbconvert_exporter": "python",
   "pygments_lexer": "ipython3",
   "version": "3.12.3"
  }
 },
 "nbformat": 4,
 "nbformat_minor": 2
}
