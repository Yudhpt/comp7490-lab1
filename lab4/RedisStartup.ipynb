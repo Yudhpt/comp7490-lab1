{
 "cells": [
  {
   "cell_type": "code",
   "execution_count": 7,
   "metadata": {},
   "outputs": [],
   "source": [
    "\"\"\"Basic connection example.\n",
    "\"\"\"\n",
    "\n",
    "import redis\n",
    "\n",
    "r = redis.Redis(\n",
    "    host=\"redis-18448.crce178.ap-east-1-1.ec2.redns.redis-cloud.com\",\n",
    "    port=18448,\n",
    "    decode_responses=True,\n",
    "    username=\"default\",\n",
    "    password=\"bpAmWuac17dhNVg8Ax9jX2IJd8z0IKoi\",\n",
    ")"
   ]
  },
  {
   "cell_type": "code",
   "execution_count": 8,
   "metadata": {},
   "outputs": [
    {
     "data": {
      "text/plain": [
       "True"
      ]
     },
     "execution_count": 8,
     "metadata": {},
     "output_type": "execute_result"
    }
   ],
   "source": [
    "success = r.set(\"foo\", \"bar\")\n",
    "success"
   ]
  }
 ],
 "metadata": {
  "kernelspec": {
   "display_name": "comp7940",
   "language": "python",
   "name": "python3"
  },
  "language_info": {
   "codemirror_mode": {
    "name": "ipython",
    "version": 3
   },
   "file_extension": ".py",
   "mimetype": "text/x-python",
   "name": "python",
   "nbconvert_exporter": "python",
   "pygments_lexer": "ipython3",
   "version": "3.13.2"
  }
 },
 "nbformat": 4,
 "nbformat_minor": 2
}
